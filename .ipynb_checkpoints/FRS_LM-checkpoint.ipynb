{
 "cells": [
  {
   "cell_type": "markdown",
   "metadata": {},
   "source": [
    "# A Language Model using Financial Reporting Standards"
   ]
  },
  {
   "cell_type": "markdown",
   "metadata": {},
   "source": [
    "This is a modified notebook taken from the FastAI Deep Learning course [Lesson 4](https://github.com/fastai/fastai/blob/master/courses/dl1/lesson4-imdb.ipynb) and [Lesson 6](https://github.com/fastai/fastai/blob/master/courses/dl1/lesson6-rnn.ipynb). This was an experiment to see whether a model from the FastAI library trained using Financial Reporting Standards (FRS) data can give coherent answers when prompted with accounting queries. The data used are the [Financial Reporting Standards (2018)](https://www.asc.gov.sg/frs2018volume). We will be trying out a word level and character level language model separately."
   ]
  },
  {
   "cell_type": "code",
   "execution_count": 1,
   "metadata": {},
   "outputs": [],
   "source": [
    "%reload_ext autoreload\n",
    "%autoreload 2\n",
    "%matplotlib inline"
   ]
  },
  {
   "cell_type": "code",
   "execution_count": 2,
   "metadata": {},
   "outputs": [
    {
     "name": "stderr",
     "output_type": "stream",
     "text": [
      "/home/lyk/anaconda3/envs/fastai/lib/python3.6/site-packages/requests/__init__.py:80: RequestsDependencyWarning: urllib3 (1.22) or chardet (2.3.0) doesn't match a supported version!\n",
      "  RequestsDependencyWarning)\n"
     ]
    }
   ],
   "source": [
    "from fastai.text import *\n",
    "import html\n",
    "\n",
    "import dill as dill\n",
    "import spacy\n",
    "import textract\n",
    "from fastai.learner import *\n",
    "\n",
    "import torchtext\n",
    "from torchtext import vocab, data\n",
    "from torchtext.datasets import language_modeling\n",
    "\n",
    "from fastai.rnn_reg import *\n",
    "from fastai.rnn_train import *\n",
    "from fastai.nlp import *\n",
    "from fastai.lm_rnn import *\n",
    "\n",
    "path=Path('/home/lyk/Documents/FRS2018')\n",
    "spacy_tok = spacy.load('en')\n",
    "TEXT = data.Field(lower=True, tokenize=\"spacy\")"
   ]
  },
  {
   "cell_type": "markdown",
   "metadata": {},
   "source": [
    "Conversion of FRS PDFs to text format using [Textract](https://github.com/deanmalmgren/textract)."
   ]
  },
  {
   "cell_type": "code",
   "execution_count": 30,
   "metadata": {},
   "outputs": [],
   "source": [
    "# #convert pdf to text\n",
    "# for fname in path.glob('*.pdf'):\n",
    "#     new_fname = re.search('.{28}(.+).pdf',str(fname)).group(1)\n",
    "#     with open(path/f'txt/{new_fname}.txt', 'w') as f:\n",
    "#         f.write(re.sub('\\n+',' ',textract.process(fname).decode('utf-8')))"
   ]
  },
  {
   "cell_type": "markdown",
   "metadata": {},
   "source": [
    "### FRS Word Level Language Model"
   ]
  },
  {
   "cell_type": "code",
   "execution_count": 4,
   "metadata": {},
   "outputs": [
    {
     "data": {
      "text/plain": [
       "(268, 2782, 1, 603442)"
      ]
     },
     "execution_count": 4,
     "metadata": {},
     "output_type": "execute_result"
    }
   ],
   "source": [
    "TEXT=data.Field(lower=True,tokenize='spacy')\n",
    "\n",
    "bs=32 #batch-size\n",
    "bptt=70 #bptt backprop-through-time: how many tokens to put in at once (i.e. 70)\n",
    "\n",
    "FILES = dict(train=path/'txt/train', validation=path/'txt/val', test=path/'txt/val')\n",
    "md = LanguageModelData.from_text_files(path, TEXT, **FILES, bs=bs, bptt=bptt, min_freq=10)\n",
    "\n",
    "#dill.dump(TEXT, open(path/'TEXT.pkl','wb'))\n",
    "\n",
    "len(md.trn_dl), md.nt, len(md.trn_ds), len(md.trn_ds[0].text)"
   ]
  },
  {
   "cell_type": "code",
   "execution_count": 5,
   "metadata": {},
   "outputs": [
    {
     "data": {
      "text/plain": [
       "['<unk>', '<pad>', 'the', 'of', ',', '.', 'in', 'a', 'to', ')', 'and', '(']"
      ]
     },
     "execution_count": 5,
     "metadata": {},
     "output_type": "execute_result"
    }
   ],
   "source": [
    "TEXT.vocab.itos[:12]"
   ]
  },
  {
   "cell_type": "code",
   "execution_count": 6,
   "metadata": {},
   "outputs": [],
   "source": [
    "em_sz = 200  # size of each embedding vector (50-600 is a good number)\n",
    "nh = 500     # number of hidden activations per layer\n",
    "nl = 3       # number of layers"
   ]
  },
  {
   "cell_type": "code",
   "execution_count": 7,
   "metadata": {},
   "outputs": [],
   "source": [
    "opt_fn = partial(optim.Adam, betas=(0.7, 0.99))"
   ]
  },
  {
   "cell_type": "code",
   "execution_count": 8,
   "metadata": {},
   "outputs": [],
   "source": [
    "learner = md.get_model(opt_fn, em_sz, nh, nl,\n",
    "               dropouti=0.05, dropout=0.05, wdrop=0.1, dropoute=0.02, dropouth=0.05)\n",
    "learner.reg_fn = partial(seq2seq_reg, alpha=2, beta=1) # to reduce overfitting\n",
    "learner.clip=0.3 #don't let gradient(?) be more than 0.3"
   ]
  },
  {
   "cell_type": "markdown",
   "metadata": {},
   "source": [
    "The method `lr_find()` is an implementaion by FastAI of the 2015 paper [Cyclical Learning Rates for Training Neural Networks](http://arxiv.org/abs/1506.01186) to find a good value to set the learning rate. Choosing a high enough learning rate where the validation loss is still improving will speed up training while maintaining model performance. From the chart, a learning rate of 1e-2 seems to be the most appropriate."
   ]
  },
  {
   "cell_type": "code",
   "execution_count": 8,
   "metadata": {},
   "outputs": [
    {
     "data": {
      "application/vnd.jupyter.widget-view+json": {
       "model_id": "6b5cdb18eb934db7a0541817b55e0126",
       "version_major": 2,
       "version_minor": 0
      },
      "text/plain": [
       "HBox(children=(IntProgress(value=0, description='Epoch', max=1), HTML(value='')))"
      ]
     },
     "metadata": {},
     "output_type": "display_data"
    },
    {
     "name": "stdout",
     "output_type": "stream",
     "text": [
      " 95%|█████████▍| 254/268 [00:12<00:00, 19.97it/s, loss=19.7]"
     ]
    },
    {
     "data": {
      "image/png": "[encoded data removed]",
      "text/plain": [
       "<Figure size 432x288 with 1 Axes>"
      ]
     },
     "metadata": {},
     "output_type": "display_data"
    }
   ],
   "source": [
    "learner.lr_find()\n",
    "learner.sched.plot()"
   ]
  },
  {
   "cell_type": "markdown",
   "metadata": {},
   "source": [
    "- wds refers to weight decay (L2 Regularization)\n",
    "- cycle_len refers to how long to gradually decrease the learning rate in one epoch (The FastAI Library uses cosine annealing)\n",
    "- cycle_mult is how much to multiply the length of one epoch after the previous epoch finishes."
   ]
  },
  {
   "cell_type": "code",
   "execution_count": 9,
   "metadata": {},
   "outputs": [
    {
     "data": {
      "application/vnd.jupyter.widget-view+json": {
       "model_id": "1a4d29b34c6f4775b453d1624dd377b1",
       "version_major": 2,
       "version_minor": 0
      },
      "text/plain": [
       "HBox(children=(IntProgress(value=0, description='Epoch', max=7), HTML(value='')))"
      ]
     },
     "metadata": {},
     "output_type": "display_data"
    },
    {
     "name": "stdout",
     "output_type": "stream",
     "text": [
      "epoch      trn_loss   val_loss                              \n",
      "    0      5.851322   5.759224  \n",
      "    1      5.859929   5.874969                              \n",
      "    2      5.788686   5.720853                              \n",
      "    3      4.803605   4.667127                              \n",
      "    4      4.030635   4.132255                              \n",
      "    5      3.749445   3.933609                              \n",
      "    6      3.647808   3.871671                              \n"
     ]
    },
    {
     "data": {
      "text/plain": [
       "[array([3.87167])]"
      ]
     },
     "execution_count": 9,
     "metadata": {},
     "output_type": "execute_result"
    }
   ],
   "source": [
    "learner.fit(1e-2, 3, wds=1e-5, cycle_len=1, cycle_mult=2)"
   ]
  },
  {
   "cell_type": "markdown",
   "metadata": {},
   "source": [
    "The model starts to overfit slightly after 3 epochs as the validation loss starts becoming greater than the training loss."
   ]
  },
  {
   "cell_type": "code",
   "execution_count": 10,
   "metadata": {},
   "outputs": [],
   "source": [
    "learner.save_encoder('adam3_enc')"
   ]
  },
  {
   "cell_type": "code",
   "execution_count": 9,
   "metadata": {},
   "outputs": [],
   "source": [
    "learner.load_encoder('adam3_enc')"
   ]
  },
  {
   "cell_type": "code",
   "execution_count": 10,
   "metadata": {},
   "outputs": [],
   "source": [
    "m=learner.model\n",
    "sentence='a liability is'\n",
    "s_tok = [spacy_tok(sentence)]\n",
    "t=TEXT.numericalize(s_tok)"
   ]
  },
  {
   "cell_type": "code",
   "execution_count": 11,
   "metadata": {},
   "outputs": [],
   "source": [
    "# Set batch size to 1\n",
    "m[0].bs=1\n",
    "# Turn off dropout\n",
    "m.eval()\n",
    "# Reset hidden state\n",
    "m.reset()\n",
    "# Get predictions from model\n",
    "res,*_ = m(t)\n",
    "# Put the batch size back to what it was\n",
    "m[0].bs=bs"
   ]
  },
  {
   "cell_type": "code",
   "execution_count": 62,
   "metadata": {},
   "outputs": [
    {
     "name": "stdout",
     "output_type": "stream",
     "text": [
      "a liability is \n",
      "\n",
      "( a ) the amount of the consideration received ( or receivable ) in the period in which the entity has a right to receive cash or another financial asset to the entity . ( b ) the entity has a right to receive cash or another financial asset to another entity . the entity ’s own equity instruments are not recognised in the entity ’s statement of financial position . the entity ’s share of the net assets of the entity ’s net assets of the entity and the entity ’s own equity instruments are not recognised in profit ...\n"
     ]
    }
   ],
   "source": [
    "print(sentence,\"\\n\")\n",
    "for i in range(100):\n",
    "    n=res[-1].topk(2)[1]\n",
    "    n = n[1] if n.data[0]==0 else n[0]\n",
    "    print(TEXT.vocab.itos[n.data[0]], end=' ')\n",
    "    res,*_ = m(n[0].unsqueeze(0))\n",
    "print('...')"
   ]
  },
  {
   "cell_type": "markdown",
   "metadata": {},
   "source": [
    "The result of the query actually came out decently even though it is not entirely correct. When given more complex queries, the model does not perform as well and will tend to give less coherent answers as shown below."
   ]
  },
  {
   "cell_type": "code",
   "execution_count": 10,
   "metadata": {},
   "outputs": [],
   "source": [
    "m=learner.model\n",
    "sentence='an intangible asset is measured at'\n",
    "s_tok = [spacy_tok(sentence)]\n",
    "t=TEXT.numericalize(s_tok)"
   ]
  },
  {
   "cell_type": "code",
   "execution_count": 11,
   "metadata": {},
   "outputs": [],
   "source": [
    "# Set batch size to 1\n",
    "m[0].bs=1\n",
    "# Turn off dropout\n",
    "m.eval()\n",
    "# Reset hidden state\n",
    "m.reset()\n",
    "# Get predictions from model\n",
    "res,*_ = m(t)\n",
    "# Put the batch size back to what it was\n",
    "m[0].bs=bs"
   ]
  },
  {
   "cell_type": "code",
   "execution_count": 13,
   "metadata": {},
   "outputs": [
    {
     "name": "stdout",
     "output_type": "stream",
     "text": [
      "an intangible asset is measured at \n",
      "\n",
      ", the entity ’s own equity instruments , the entity shall disclose the following : ( a ) the entity ’s financial statements ( see paragraph 10 ) . ( b ) the entity ’s financial statements ( see paragraph 10 ) . ( b ) the entity ’s financial statements ( see paragraph 10 ) . ( b ) the entity ’s financial statements ( see paragraph 10 ) . ( b ) the entity ’s financial statements in accordance with frs 109 . the entity shall recognise the following : ( a ) the entity ’s financial statements ...\n"
     ]
    }
   ],
   "source": [
    "print(sentence,\"\\n\")\n",
    "for i in range(100):\n",
    "    n=res[-1].topk(2)[1]\n",
    "    n = n[1] if n.data[0]==0 else n[0]\n",
    "    print(TEXT.vocab.itos[n.data[0]], end=' ')\n",
    "    res,*_ = m(n[0].unsqueeze(0))\n",
    "print('...')"
   ]
  },
  {
   "cell_type": "markdown",
   "metadata": {},
   "source": [
    "### FRS Character level Language Model"
   ]
  },
  {
   "cell_type": "code",
   "execution_count": 65,
   "metadata": {},
   "outputs": [
    {
     "name": "stdout",
     "output_type": "stream",
     "text": [
      "corpus length: 4475064\n"
     ]
    }
   ],
   "source": [
    "text_list=[]\n",
    "for fname in (path/'txt').glob('*.txt'):\n",
    "    text_list.append(open(fname).read())\n",
    "\n",
    "text = [i for o in text_list for i in o]\n",
    "\n",
    "print('corpus length:', len(text))"
   ]
  },
  {
   "cell_type": "code",
   "execution_count": 66,
   "metadata": {},
   "outputs": [
    {
     "name": "stdout",
     "output_type": "stream",
     "text": [
      "total chars: 110\n"
     ]
    }
   ],
   "source": [
    "chars = sorted(list(set(text)))\n",
    "vocab_size = len(chars)+1\n",
    "print('total unique characters:', vocab_size)"
   ]
  },
  {
   "cell_type": "code",
   "execution_count": 67,
   "metadata": {},
   "outputs": [
    {
     "data": {
      "text/plain": [
       "\"\\x0c $%&'()*+,-./0123456789:;=>?@ABCDEFGHIJKLMNOPQRSTUVWXYZ[]^abcdefghijklmnopqrstuvwxyz{}\\x80\\x93\\x99£¥±×â÷‒–—‘’“”\""
      ]
     },
     "execution_count": 67,
     "metadata": {},
     "output_type": "execute_result"
    }
   ],
   "source": [
    "chars.insert(0, \"\\0\")\n",
    "''.join(chars[1:-6])"
   ]
  },
  {
   "cell_type": "code",
   "execution_count": 68,
   "metadata": {},
   "outputs": [],
   "source": [
    "char_indices = {c: i for i, c in enumerate(chars)}\n",
    "indices_char = {i: c for i, c in enumerate(chars)}\n",
    "idx = [char_indices[c] for c in text]"
   ]
  },
  {
   "cell_type": "code",
   "execution_count": 69,
   "metadata": {},
   "outputs": [
    {
     "data": {
      "text/plain": [
       "'INTERPRETATION OF FINANCIAL REPORTING STANDARD INT FRS 114 FRS 19—The '"
      ]
     },
     "execution_count": 69,
     "metadata": {},
     "output_type": "execute_result"
    }
   ],
   "source": [
    "''.join(indices_char[i] for i in idx[:70])"
   ]
  },
  {
   "cell_type": "code",
   "execution_count": 76,
   "metadata": {},
   "outputs": [],
   "source": [
    "from fastai import sgdr\n",
    "\n",
    "n_hidden=512"
   ]
  },
  {
   "cell_type": "code",
   "execution_count": 77,
   "metadata": {},
   "outputs": [],
   "source": [
    "#Taken from the FastAI Deep Learning course Lesson 6 notebook\n",
    "class CharSeqStatefulLSTM(nn.Module):\n",
    "    def __init__(self, vocab_size, n_fac, bs, nl):\n",
    "        super().__init__()\n",
    "        self.vocab_size,self.nl = vocab_size,nl\n",
    "        self.e = nn.Embedding(vocab_size, n_fac)\n",
    "        self.rnn = nn.LSTM(n_fac, n_hidden, nl, dropout=0.5)\n",
    "        self.l_out = nn.Linear(n_hidden, vocab_size)\n",
    "        self.init_hidden(bs)\n",
    "        \n",
    "    def forward(self, cs):\n",
    "        bs = cs[0].size(0)\n",
    "        if self.h[0].size(1) != bs: self.init_hidden(bs)\n",
    "        outp,h = self.rnn(self.e(cs), self.h)\n",
    "        self.h = repackage_var(h)\n",
    "        return F.log_softmax(self.l_out(outp), dim=-1).view(-1, self.vocab_size)\n",
    "    \n",
    "    def init_hidden(self, bs): #for LSTM, need to return a tuple\n",
    "        self.h = (V(torch.zeros(self.nl, bs, n_hidden)),\n",
    "                  V(torch.zeros(self.nl, bs, n_hidden)))"
   ]
  },
  {
   "cell_type": "code",
   "execution_count": 78,
   "metadata": {},
   "outputs": [],
   "source": [
    "m = CharSeqStatefulLSTM(md.nt, n_fac, 512, 2).cuda()\n",
    "lo = LayerOptimizer(optim.Adam, m, 1e-2, 1e-5)"
   ]
  },
  {
   "cell_type": "code",
   "execution_count": 80,
   "metadata": {},
   "outputs": [],
   "source": [
    "os.makedirs(f'{path}models', exist_ok=True)"
   ]
  },
  {
   "cell_type": "code",
   "execution_count": 81,
   "metadata": {},
   "outputs": [
    {
     "data": {
      "application/vnd.jupyter.widget-view+json": {
       "model_id": "2133d0c6ff374e17a35db969a5049b04",
       "version_major": 2,
       "version_minor": 0
      },
      "text/plain": [
       "HBox(children=(IntProgress(value=0, description='Epoch', max=2), HTML(value='')))"
      ]
     },
     "metadata": {},
     "output_type": "display_data"
    },
    {
     "name": "stdout",
     "output_type": "stream",
     "text": [
      "epoch      trn_loss   val_loss                                 \n",
      "    0      1.065968   1.130509  \n",
      "    1      0.984975   1.082506                                 \n"
     ]
    },
    {
     "data": {
      "text/plain": [
       "[array([1.08251])]"
      ]
     },
     "execution_count": 81,
     "metadata": {},
     "output_type": "execute_result"
    }
   ],
   "source": [
    "fit(m, md, 2, lo.opt, F.nll_loss)"
   ]
  },
  {
   "cell_type": "code",
   "execution_count": 83,
   "metadata": {},
   "outputs": [
    {
     "data": {
      "application/vnd.jupyter.widget-view+json": {
       "model_id": "dffc09d568e247d6b0ef419d36996dae",
       "version_major": 2,
       "version_minor": 0
      },
      "text/plain": [
       "HBox(children=(IntProgress(value=0, description='Epoch', max=15), HTML(value='')))"
      ]
     },
     "metadata": {},
     "output_type": "display_data"
    },
    {
     "name": "stdout",
     "output_type": "stream",
     "text": [
      "epoch      trn_loss   val_loss                                 \n",
      "    0      0.835457   0.891636  \n",
      "    1      0.83892    0.891646                                 \n",
      "    2      0.84007    0.891638                                 \n",
      "    3      0.838736   0.891641                                 \n",
      "    4      0.839379   0.891636                                 \n",
      "    5      0.84146    0.89164                                  \n",
      "    6      0.846703   0.891636                                 \n",
      "    7      0.840565   0.891643                                 \n",
      "    8      0.837558   0.891634                                 \n",
      "    9      0.836777   0.891635                                 \n",
      "    10     0.840028   0.891632                                 \n",
      "    11     0.835383   0.891631                                 \n",
      "    12     0.840804   0.891637                                 \n",
      "    13     0.840058   0.891636                                 \n",
      "    14     0.839098   0.891629                                 \n"
     ]
    },
    {
     "data": {
      "text/plain": [
       "[array([0.89163])]"
      ]
     },
     "execution_count": 83,
     "metadata": {},
     "output_type": "execute_result"
    }
   ],
   "source": [
    "on_end = lambda sched, cycle: save_model(m, f'{path}models/cyc_{cycle}')\n",
    "cb = [CosAnneal(lo, len(md.trn_dl), cycle_mult=2, on_cycle_end=on_end)] #learning rate with Cosine Annealing \n",
    "fit(m, md, 15, lo.opt, F.nll_loss, callbacks=cb)"
   ]
  },
  {
   "cell_type": "markdown",
   "metadata": {},
   "source": [
    "After 15 epochs, the training and validation loss did not improve and the model remained similarly overfitted throughout. The relatively poorer result can be seen below when given the same query as when testing the word level language model."
   ]
  },
  {
   "cell_type": "code",
   "execution_count": 84,
   "metadata": {},
   "outputs": [],
   "source": [
    "def get_next(inp):\n",
    "    idxs = TEXT.numericalize(inp)\n",
    "    p = m(VV(idxs.transpose(0,1)))\n",
    "    r = torch.multinomial(p[-1].exp(), 1)\n",
    "    return TEXT.vocab.itos[to_np(r)[0]]\n",
    "\n",
    "def get_next_n(inp, n):\n",
    "    res = inp\n",
    "    for i in range(n):\n",
    "        c = get_next(inp)\n",
    "        res += c\n",
    "        inp = inp[1:]+c\n",
    "    return res"
   ]
  },
  {
   "cell_type": "code",
   "execution_count": 96,
   "metadata": {},
   "outputs": [
    {
     "name": "stdout",
     "output_type": "stream",
     "text": [
      "a liability is an investment in accordance with frs 3 example 104, the entity two identifies estimating the taxble integration when the maintenance of its profit or loss or a first-time adopted differ securities in owner-quved is not part in accursantly; (b) costs increase the deferral accounting policies. however, priacipally may significant amounts require entity d  ie281 (b) individual ? financial liabilitie\n"
     ]
    }
   ],
   "source": [
    "print(get_next_n('a liability is', 400))"
   ]
  },
  {
   "cell_type": "code",
   "execution_count": null,
   "metadata": {},
   "outputs": [],
   "source": []
  },
  {
   "cell_type": "markdown",
   "metadata": {},
   "source": [
    "Clearly, the FRS corpus alone is not enough to get a generalizable language model for accounting queries. Possible ways to improve this model would be to gather more documents related to financial reporting standards, do data augmentation to existing text data or combining both the word level and character level language models. <br> \n",
    "Another way would be to do transfer learning by using a pre-trained language model and fine-tuning the last few layers with the FRS corpus, as demonstrated with the IMDB data set in [Lesson 10](https://github.com/fastai/fastai/blob/master/courses/dl2/imdb.ipynb) of the FastAI Deep Learning course."
   ]
  },
  {
   "cell_type": "code",
   "execution_count": null,
   "metadata": {},
   "outputs": [],
   "source": []
  }
 ],
 "metadata": {
  "kernelspec": {
   "display_name": "Python 3",
   "language": "python",
   "name": "python3"
  },
  "language_info": {
   "codemirror_mode": {
    "name": "ipython",
    "version": 3
   },
   "file_extension": ".py",
   "mimetype": "text/x-python",
   "name": "python",
   "nbconvert_exporter": "python",
   "pygments_lexer": "ipython3",
   "version": "3.6.5"
  }
 },
 "nbformat": 4,
 "nbformat_minor": 2
}
